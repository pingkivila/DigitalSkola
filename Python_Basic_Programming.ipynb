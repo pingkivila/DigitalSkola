{
  "nbformat": 4,
  "nbformat_minor": 0,
  "metadata": {
    "colab": {
      "name": "Python-Basic_Programming.ipynb",
      "provenance": [],
      "collapsed_sections": [],
      "authorship_tag": "ABX9TyMzyS/oUlNRlT7A96ZbnB2j",
      "include_colab_link": true
    },
    "kernelspec": {
      "name": "python3",
      "display_name": "Python 3"
    },
    "language_info": {
      "name": "python"
    }
  },
  "cells": [
    {
      "cell_type": "markdown",
      "metadata": {
        "id": "view-in-github",
        "colab_type": "text"
      },
      "source": [
        "<a href=\"https://colab.research.google.com/github/pingkivila/DigitalSkola_DataScience11/blob/main/Python_Basic_Programming.ipynb\" target=\"_parent\"><img src=\"https://colab.research.google.com/assets/colab-badge.svg\" alt=\"Open In Colab\"/></a>"
      ]
    },
    {
      "cell_type": "markdown",
      "source": [
        "#**Basic Programming Python**\n",
        "\n",
        "created by Pingki Vila Tri Wahyuni\n",
        "\n",
        "This notebook is created to teach student about python basic programming level. All the code is free to reuse by everyone\n",
        "\n",
        "**Contents**\n",
        "\n",
        "\n",
        "1. Iteration\n",
        "2. Array\n",
        "3. Function\n",
        "\n"
      ],
      "metadata": {
        "id": "7iWQtgRxW31g"
      }
    },
    {
      "cell_type": "markdown",
      "source": [
        "###Iteration"
      ],
      "metadata": {
        "id": "gQDAiX-lblxX"
      }
    },
    {
      "cell_type": "code",
      "execution_count": null,
      "metadata": {
        "colab": {
          "base_uri": "https://localhost:8080/"
        },
        "id": "Nc0eIn2zY0xB",
        "outputId": "29a2e1f1-724f-430c-c65a-4f6f20697df6"
      },
      "outputs": [
        {
          "output_type": "stream",
          "name": "stdout",
          "text": [
            "[1, 1, 2, 3, 5, 8, 13, 21, 34, 55, 89]\n"
          ]
        }
      ],
      "source": [
        "#Buatlah kode dimana outputnya merupakan bilangan fibbonaci di antara 1-100\n",
        "\n",
        "bil_a = 0\n",
        "bil_b = 1\n",
        "bil_tampung = 1 \n",
        "trigger = True\n",
        "list = []\n",
        "\n",
        "\n",
        "while trigger:\n",
        "  if bil_tampung < 100:\n",
        "    list.append(bil_tampung)\n",
        "    \n",
        "  else:\n",
        "    trigger = False\n",
        "  bil_tampung = bil_a + bil_b\n",
        "  bil_a = bil_b\n",
        "  bil_b = bil_tampung\n",
        "\n",
        "print(list)"
      ]
    },
    {
      "cell_type": "code",
      "source": [
        "#Buatlah kode dimana outputnya merupakan 50 bilangan prima pertama\n",
        "\n",
        "count = 0\n",
        "total = 0\n",
        "trigger = False\n",
        "list_new = []\n",
        "\n",
        "while trigger == False:\n",
        "  \n",
        "  if total == 50:\n",
        "    trigger = True\n",
        "  \n",
        "  if count % 2 == 1:\n",
        "    total += 1\n",
        "    list_new.append(count)\n",
        "\n",
        "  count += 1\n",
        "  \n",
        "print(list_new)"
      ],
      "metadata": {
        "colab": {
          "base_uri": "https://localhost:8080/"
        },
        "id": "tgE5BoyRZl9A",
        "outputId": "2a0fe2c5-0f1a-495d-e35b-02d6eaaa38f1"
      },
      "execution_count": null,
      "outputs": [
        {
          "output_type": "stream",
          "name": "stdout",
          "text": [
            "[1, 3, 5, 7, 9, 11, 13, 15, 17, 19, 21, 23, 25, 27, 29, 31, 33, 35, 37, 39, 41, 43, 45, 47, 49, 51, 53, 55, 57, 59, 61, 63, 65, 67, 69, 71, 73, 75, 77, 79, 81, 83, 85, 87, 89, 91, 93, 95, 97, 99]\n"
          ]
        }
      ]
    },
    {
      "cell_type": "markdown",
      "source": [
        "###Array"
      ],
      "metadata": {
        "id": "PQ1CiwpSbru8"
      }
    },
    {
      "cell_type": "code",
      "source": [
        "#mencetak list secara random\n",
        "import random\n",
        "input_list= [random.randrange(1, 50, 1) for i in range(10)]\n",
        "\n",
        "print(input_list)\n",
        "\n",
        "\n",
        "#Hasil penjumlahan item dari list dengan anggapan jika keluar angka 5 dan 6 angka tersebut tidak dijumlahkan atau dianggap nilainya tidak ada\n",
        "jumlah = 0\n",
        "\n",
        "for i in input_list:\n",
        "  if i != 5 and i !=6:\n",
        "    jumlah += i\n",
        "\n",
        "print('Hasil penjumlahan di dalam list adalah: ', jumlah)"
      ],
      "metadata": {
        "id": "yQuHGYg2bN-G",
        "colab": {
          "base_uri": "https://localhost:8080/"
        },
        "outputId": "9e28b52f-32ed-4ec9-fd4a-2c161e966a7b"
      },
      "execution_count": 1,
      "outputs": [
        {
          "output_type": "stream",
          "name": "stdout",
          "text": [
            "[1, 49, 18, 49, 26, 24, 29, 36, 48, 33]\n",
            "Hasil penjumlahan di dalam list adalah:  313\n"
          ]
        }
      ]
    },
    {
      "cell_type": "markdown",
      "source": [
        "###Function"
      ],
      "metadata": {
        "id": "EEYd1zxSbukn"
      }
    },
    {
      "cell_type": "code",
      "source": [
        "import random\n",
        "\n",
        "def reverse(n):\n",
        "    rev = 0\n",
        "    while n > 0:\n",
        "        r = n % 10\n",
        "        rev = rev * 10 + r\n",
        "        n = int(n / 10)\n",
        "    return rev\n",
        "\n",
        "x = 9998999\n",
        "result = reverse(x)\n",
        "print(\"input = %d\" %x)\n",
        "\n",
        "if result == x:\n",
        "    print(\"bilangan input merupakan bilangan palindrom\")\n",
        "else:\n",
        "    print(\"bilangan input merupakan bukan bilangan palindrom\")"
      ],
      "metadata": {
        "colab": {
          "base_uri": "https://localhost:8080/"
        },
        "id": "PDuT4Qq3c3O6",
        "outputId": "d58cd7b6-3d2d-41f7-8915-0fbf661059a4"
      },
      "execution_count": 2,
      "outputs": [
        {
          "output_type": "stream",
          "name": "stdout",
          "text": [
            "input = 9998999\n",
            "bilangan input merupakan bilangan palindrom\n"
          ]
        }
      ]
    }
  ]
}