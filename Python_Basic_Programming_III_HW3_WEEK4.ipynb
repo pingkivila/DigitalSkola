{
  "nbformat": 4,
  "nbformat_minor": 0,
  "metadata": {
    "colab": {
      "name": "Python-Basic Programming III-HW3-WEEK4",
      "provenance": [],
      "collapsed_sections": []
    },
    "kernelspec": {
      "name": "python3",
      "display_name": "Python 3"
    },
    "language_info": {
      "name": "python"
    }
  },
  "cells": [
    {
      "cell_type": "markdown",
      "source": [
        "BY : PINGKI VILA TRI WAHYUNI"
      ],
      "metadata": {
        "id": "BRjsz0SwJ8xW"
      }
    },
    {
      "cell_type": "code",
      "source": [
        "#mencetak list secara random\n",
        "import random\n",
        "input_list= [random.randrange(1, 50, 1) for i in range(10)]\n",
        "\n",
        "print(input_list)\n",
        "\n",
        "\n",
        "#Hasil penjumlahan item dari list dengan anggapan jika keluar angka 5 dan 6 angka tersebut tidak dijumlahkan atau dianggap nilainya tidak ada\n",
        "jumlah = 0\n",
        "\n",
        "for i in input_list:\n",
        "  if i != 5 and i !=6:\n",
        "    jumlah += i\n",
        "\n",
        "print('Hasil penjumlahan di dalam list adalah: ', jumlah)"
      ],
      "metadata": {
        "colab": {
          "base_uri": "https://localhost:8080/"
        },
        "id": "eYG4gakREicf",
        "outputId": "cecfef85-2d3c-4817-9020-516330e63b20"
      },
      "execution_count": null,
      "outputs": [
        {
          "output_type": "stream",
          "name": "stdout",
          "text": [
            "[19, 16, 5, 5, 39, 35, 49, 33, 21, 15]\n",
            "Hasil penjumlahan di dalam list adalah:  227\n"
          ]
        }
      ]
    }
  ]
}