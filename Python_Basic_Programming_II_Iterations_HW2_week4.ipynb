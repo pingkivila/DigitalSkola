{
  "nbformat": 4,
  "nbformat_minor": 0,
  "metadata": {
    "colab": {
      "name": "Python-Basic Programming II Iterations-HW2-week4.ipynb",
      "provenance": [],
      "collapsed_sections": []
    },
    "kernelspec": {
      "name": "python3",
      "display_name": "Python 3"
    },
    "language_info": {
      "name": "python"
    }
  },
  "cells": [
    {
      "cell_type": "code",
      "execution_count": null,
      "metadata": {
        "colab": {
          "base_uri": "https://localhost:8080/"
        },
        "id": "Nc0eIn2zY0xB",
        "outputId": "29a2e1f1-724f-430c-c65a-4f6f20697df6"
      },
      "outputs": [
        {
          "output_type": "stream",
          "name": "stdout",
          "text": [
            "[1, 1, 2, 3, 5, 8, 13, 21, 34, 55, 89]\n"
          ]
        }
      ],
      "source": [
        "#Buatlah kode dimana outputnya merupakan bilangan fibbonaci di antara 1-100\n",
        "\n",
        "bil_a = 0\n",
        "bil_b = 1\n",
        "bil_tampung = 1 \n",
        "trigger = True\n",
        "list = []\n",
        "\n",
        "\n",
        "while trigger:\n",
        "  if bil_tampung < 100:\n",
        "    list.append(bil_tampung)\n",
        "    \n",
        "  else:\n",
        "    trigger = False\n",
        "  bil_tampung = bil_a + bil_b\n",
        "  bil_a = bil_b\n",
        "  bil_b = bil_tampung\n",
        "\n",
        "print(list)"
      ]
    },
    {
      "cell_type": "code",
      "source": [
        "#Buatlah kode dimana outputnya merupakan 50 bilangan prima pertama\n",
        "\n",
        "count = 0\n",
        "total = 0\n",
        "trigger = False\n",
        "list_new = []\n",
        "\n",
        "while trigger == False:\n",
        "  \n",
        "  if total == 50:\n",
        "    trigger = True\n",
        "  \n",
        "  if count % 2 == 1:\n",
        "    total += 1\n",
        "    list_new.append(count)\n",
        "\n",
        "  count += 1\n",
        "  \n",
        "print(list_new)"
      ],
      "metadata": {
        "colab": {
          "base_uri": "https://localhost:8080/"
        },
        "id": "tgE5BoyRZl9A",
        "outputId": "2a0fe2c5-0f1a-495d-e35b-02d6eaaa38f1"
      },
      "execution_count": null,
      "outputs": [
        {
          "output_type": "stream",
          "name": "stdout",
          "text": [
            "[1, 3, 5, 7, 9, 11, 13, 15, 17, 19, 21, 23, 25, 27, 29, 31, 33, 35, 37, 39, 41, 43, 45, 47, 49, 51, 53, 55, 57, 59, 61, 63, 65, 67, 69, 71, 73, 75, 77, 79, 81, 83, 85, 87, 89, 91, 93, 95, 97, 99]\n"
          ]
        }
      ]
    },
    {
      "cell_type": "code",
      "source": [
        ""
      ],
      "metadata": {
        "id": "yQuHGYg2bN-G"
      },
      "execution_count": null,
      "outputs": []
    }
  ]
}