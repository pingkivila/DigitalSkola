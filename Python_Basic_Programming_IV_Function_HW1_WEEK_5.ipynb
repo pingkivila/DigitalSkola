{
  "cells": [
    {
      "cell_type": "code",
      "source": [
        "import random\n",
        "\n",
        "def reverse(n):\n",
        "    rev = 0\n",
        "    while n > 0:\n",
        "        r = n % 10\n",
        "        rev = rev * 10 + r\n",
        "        n = int(n / 10)\n",
        "    return rev\n",
        "\n",
        "x = 9998999\n",
        "result = reverse(x)\n",
        "print(\"input = %d\" %x)\n",
        "\n",
        "if result == x:\n",
        "    print(\"bilangan input merupakan bilangan palindrom\")\n",
        "else:\n",
        "    print(\"bilangan input merupakan bukan bilangan palindrom\")"
      ],
      "metadata": {
        "colab": {
          "base_uri": "https://localhost:8080/"
        },
        "id": "DGqGmCVi3jfl",
        "outputId": "1d2e1fce-5a50-45b0-87c2-e2154c8b64b3"
      },
      "execution_count": null,
      "outputs": [
        {
          "output_type": "stream",
          "name": "stdout",
          "text": [
            "input = 9998999\n",
            "bilangan input merupakan bilangan palindrom\n"
          ]
        }
      ]
    },
    {
      "cell_type": "code",
      "source": [
        "import random\n",
        "\n",
        "def reverse(n):\n",
        "    rev = 0\n",
        "    while n > 0:\n",
        "        r = n % 10\n",
        "        rev = rev * 10 + r\n",
        "        n = int(n / 10)\n",
        "    return rev\n",
        "\n",
        "x = random.randrange(1, 10000, 1)\n",
        "result = reverse(x)\n",
        "print(\"input = %d\" %x)\n",
        "\n",
        "if result == x:\n",
        "    print(\"bilangan input merupakan bilangan palindrom\")\n",
        "else:\n",
        "    print(\"bilangan input merupakan bukan bilangan palindrom\")"
      ],
      "metadata": {
        "colab": {
          "base_uri": "https://localhost:8080/"
        },
        "id": "fNrlCYPx5xCs",
        "outputId": "98acce6b-4766-4adc-f5b3-af946bdc70d6"
      },
      "execution_count": null,
      "outputs": [
        {
          "output_type": "stream",
          "name": "stdout",
          "text": [
            "input = 7736\n",
            "bilangan input merupakan bukan bilangan palindrom\n"
          ]
        }
      ]
    }
  ],
  "metadata": {
    "colab": {
      "name": "Python-Basic Programming IV Function-HW1 WEEK 5.ipynb",
      "provenance": [],
      "collapsed_sections": []
    },
    "kernelspec": {
      "display_name": "Python 3",
      "name": "python3"
    },
    "language_info": {
      "name": "python"
    }
  },
  "nbformat": 4,
  "nbformat_minor": 0
}